{
 "cells": [
  {
   "cell_type": "markdown",
   "id": "d1ceb1c7-d32c-4b50-9e23-27c188174b30",
   "metadata": {},
   "source": [
    "# 1. Ground heat transfer\n",
    "The representation of the borehole wall temperature along a borehole using basis functions is compared to a reference solution."
   ]
  },
  {
   "cell_type": "code",
   "execution_count": 1,
   "id": "7496c3f8-bc0d-425e-9ddf-607e44b4a5b1",
   "metadata": {
    "jupyter": {
     "source_hidden": true
    }
   },
   "outputs": [],
   "source": [
    "# Import necessary packages\n",
    "import geothermax as gm\n",
    "\n",
    "from jax import numpy as jnp\n",
    "from matplotlib import pyplot as plt\n",
    "import numpy as np\n",
    "import pandas as pd\n",
    "from scipy.integrate import quad_vec\n",
    "from scipy.special import erfc, roots_legendre"
   ]
  },
  {
   "cell_type": "markdown",
   "id": "b3a67be7-f6b2-4d04-a355-a2649182a787",
   "metadata": {},
   "source": [
    "## 1.1. Borehole trajectory\n",
    "The borehole, of radius $r_b=0.075$ m, follows a curved path given by:\n",
    "$$\n",
    "\\vec{p}(\\xi) = 5 \\xi^3 \\vec{\\imath} + 3.5 (\\xi + 1)^2 \\vec{\\jmath} - (79 + 75 \\xi) \\vec{k}\n",
    "$$"
   ]
  },
  {
   "cell_type": "code",
   "execution_count": 2,
   "id": "b52b1073-ff89-47f8-aa9e-980e68bd14bb",
   "metadata": {},
   "outputs": [],
   "source": [
    "r_b = 0.075\n",
    "f_px = lambda _eta: 5 * _eta**3\n",
    "f_py = lambda _eta: 3.5 * (_eta + 1)**2\n",
    "f_pz = lambda _eta: -79. - 75 * _eta\n",
    "f_p = lambda _eta: jnp.stack([f_px(_eta), f_py(_eta), f_pz(_eta)], axis=1)\n",
    "xi_path = jnp.linspace(-1., 1., num=4)\n",
    "path = gm.Path(xi_path, f_p(xi_path))"
   ]
  },
  {
   "cell_type": "code",
   "execution_count": 3,
   "id": "d5305e25-b5d4-450b-aa10-edc87a811f08",
   "metadata": {
    "jupyter": {
     "source_hidden": true
    }
   },
   "outputs": [
    {
     "data": {
      "image/png": "[encoded data removed]",
      "text/plain": [
       "<Figure size 354.331x354.331 with 2 Axes>"
      ]
     },
     "metadata": {},
     "output_type": "display_data"
    }
   ],
   "source": [
    "# Plot trajectory\n",
    "fig, axs = plt.subplots(nrows=1, ncols=2, layout='constrained')\n",
    "axs[0] = gm.utilities.plot_path(path, ax=axs[0], view='xy')\n",
    "# axs[0].set_title('Top view');\n",
    "axs[1] = gm.utilities.plot_path(path, ax=axs[1], view='xz')\n",
    "# axs[1].set_title('Side view');\n",
    "fig.set_size_inches(90. / 25.4, 90. / 25.4)\n",
    "fig.savefig('trajectory-ground-heat-transfer.eps')"
   ]
  },
  {
   "cell_type": "markdown",
   "id": "80675cfe-f56f-41d9-9833-86deb8fe0097",
   "metadata": {},
   "source": [
    "## 1.2. Reference solution\n",
    "The reference solution is evaluated at $51$ coordinates corresponding to the gauss-legendre quadrature nodes."
   ]
  },
  {
   "cell_type": "code",
   "execution_count": 4,
   "id": "bde7ac74-7ce1-4d80-85a6-1be7e7c7c1d1",
   "metadata": {},
   "outputs": [],
   "source": [
    "n_eval = 51\n",
    "xi, w = roots_legendre(n_eval)\n",
    "xi = jnp.array(xi)\n",
    "w = jnp.array(w)"
   ]
  },
  {
   "cell_type": "markdown",
   "id": "18926285-9619-498f-94a0-c4ae6f79662a",
   "metadata": {},
   "source": [
    "The heat extraction rate along the borehole is given by:\n",
    "$$\n",
    "q^\\prime(\\xi) = 5 + \\xi^{(N-1)}\n",
    "$$\n",
    "where $q^\\prime(\\xi)$ is in $[W/m]$ and $N$ is the number of nodes per segment in the borehole discretization.\n",
    "\n",
    "The exponent power $N-1$ guarantees that the heat extraction rate can be represented by the basis functions, and thus the comparison of the borehole wall temperature is not affected by the representation of the heat extraction rate."
   ]
  },
  {
   "cell_type": "markdown",
   "id": "3b3bef84-9a27-42ce-af03-1273fde7a57e",
   "metadata": {},
   "source": [
    "The point source solution, to be integrated along the trajectory of the borehole, is given by:\n",
    "$$\n",
    "\\frac{dh}{d\\xi}(t) = \\frac{1}{2} \\left[\n",
    "\\frac{1}{r} \\text{erfc}\\left(\\frac{r}{4 \\alpha t}\\right)\n",
    "- \\frac{1}{r^\\prime} \\text{erfc}\\left(\\frac{r^\\prime}{4 \\alpha t}\\right)\n",
    "\\right]\n",
    "\\| J(\\xi) \\|\n",
    "$$\n",
    "\n",
    "and the borehole wall temperature change by:\n",
    "$$\n",
    "\\Delta T_b(t) = \\int_{-1}^{1} q^\\prime(\\xi) \\frac{dh}{d\\xi}(t) d\\xi\n",
    "$$"
   ]
  },
  {
   "cell_type": "code",
   "execution_count": 5,
   "id": "f24c5b1a-5234-4ef3-8543-cf7f3b5ba6de",
   "metadata": {
    "jupyter": {
     "source_hidden": true
    }
   },
   "outputs": [],
   "source": [
    "def point_heat_source(_eta, p, time, alpha, r_min):\n",
    "    # Current position of the point source\n",
    "    p_source = path.f_p(_eta)\n",
    "    # Distance to the real point (p)\n",
    "    r = np.sqrt(np.linalg.norm(p_source - p, axis=-1)**2 + r_min**2)\n",
    "    # Distance to the mirror point (p')\n",
    "    r_mirror = jnp.linalg.norm(p_source - p * np.array([1, 1, -1]), axis=-1)\n",
    "    # Point heat source solution\n",
    "    h = 0.5 * erfc(r / jnp.sqrt(4 * alpha * time)) / r - 0.5 * erfc(r_mirror / jnp.sqrt(4 * alpha * time)) / r_mirror\n",
    "    return h * path.f_J(_eta)"
   ]
  },
  {
   "cell_type": "markdown",
   "id": "c8996d23-dd05-4e62-b30e-67ec653981e4",
   "metadata": {},
   "source": [
    "The reference solution is evaluated at a time $t = 20$ years for values of $N$ ranging from 1 to 11.\n",
    "\n",
    "The calculation of the reference may take several minutes to complete."
   ]
  },
  {
   "cell_type": "code",
   "execution_count": 6,
   "id": "ac79c620-b9b8-4112-b9bd-babeede297ed",
   "metadata": {},
   "outputs": [],
   "source": [
    "time = 20 * 8760 * 3600.\n",
    "alpha = 1e-6\n",
    "N = 11"
   ]
  },
  {
   "cell_type": "code",
   "execution_count": 7,
   "id": "ca56ec60-7de9-4293-8830-ef9a9ce205a6",
   "metadata": {},
   "outputs": [],
   "source": [
    "f_q = lambda _eta, _N: 5 + _eta**(_N - 1)\n",
    "p = path.f_p(xi)\n",
    "dT_b_ref = []\n",
    "for _N in range(1, N + 1):\n",
    "    integrand = lambda _eta: point_heat_source(_eta, p, time, alpha, r_b) * f_q(_eta, _N)\n",
    "    dT_b_ref.append(quad_vec(integrand, -1., 1., points=xi)[0])\n",
    "dT_b_ref = jnp.stack(dT_b_ref, axis=1)"
   ]
  },
  {
   "cell_type": "markdown",
   "id": "0e8028fa-9597-45c4-a03e-139484fcf812",
   "metadata": {},
   "source": [
    "## 1.3. Solution using geothermax\n",
    "The solution is also evaluated using geothermax for the same values of $N$ ranging from 1 to 11 and for numbers of segments $S$ ranging from 1 to 5."
   ]
  },
  {
   "cell_type": "code",
   "execution_count": 8,
   "id": "35a1f4d5-f434-46d0-a5ef-0920a78f3dcc",
   "metadata": {},
   "outputs": [],
   "source": [
    "S = 5\n",
    "dT_b_nodes = []\n",
    "dT_b_model = []\n",
    "boreholes = []\n",
    "for _S in range(1, S + 1):\n",
    "    for _N in range(1, N + 1):\n",
    "        basis = gm.Basis.Legendre(_N, order=101, order_nodes=101)\n",
    "        borehole = gm.Borehole(r_b, path, basis, _S)\n",
    "        boreholes.append(borehole)\n",
    "        q_nodes = f_q(borehole.xi, _N)\n",
    "        h_to_self = borehole.h_to_self(jnp.array([time]), alpha)\n",
    "        dT_b_nodes.append((h_to_self @ q_nodes).flatten())\n",
    "        dT_b_model.append(borehole.f(xi, dT_b_nodes[-1]))\n",
    "dT_b_model = jnp.concatenate(dT_b_model).reshape(S, N, n_eval).T"
   ]
  },
  {
   "cell_type": "markdown",
   "id": "88a4a69c-fad5-4813-a24a-0173006dab36",
   "metadata": {},
   "source": [
    "## 1.4. Comparison between the reference and geothermax solutions\n",
    "The borehole wall temperature profile is compared to the reference for $S=5$ and $N=11$."
   ]
  },
  {
   "cell_type": "code",
   "execution_count": 9,
   "id": "e2c8352a-1ca1-4815-bf61-ab94aabc3d2b",
   "metadata": {
    "jupyter": {
     "source_hidden": true
    }
   },
   "outputs": [
    {
     "data": {
      "image/png": "[encoded data removed]",
      "text/plain": [
       "<Figure size 354.331x354.331 with 1 Axes>"
      ]
     },
     "metadata": {},
     "output_type": "display_data"
    }
   ],
   "source": [
    "# Plot borehole wall temperature change\n",
    "fig, ax = plt.subplots(layout='constrained')\n",
    "gm.utilities._format_axis(ax, axis_labels=[r'$\\Delta T_b$ [$\\degree$C]', r'$s$ [m]'], inverse_y=True)\n",
    "ax.plot(dT_b_ref[:, -1], path.f_s(xi), label='Reference');\n",
    "ax.plot(dT_b_model[:, -1, -1], path.f_s(xi), 'k--', label='Model');\n",
    "ax.plot(dT_b_nodes[-1], boreholes[-1].s, 'k.', label='Nodal values');\n",
    "ax.legend(frameon=False);\n",
    "fig.set_size_inches(90. / 25.4, 90. / 25.4)\n",
    "fig.savefig('temperature-ground-heat-transfer.eps')"
   ]
  },
  {
   "cell_type": "markdown",
   "id": "21c72b52-d310-43e5-94d7-b806f6b9ebfa",
   "metadata": {},
   "source": [
    "The mean absolute percentage error (MAPE) between the reference borehole wall temperature and that evaluated by the interpolation of the model using the basis functions is given by:\n",
    "$$\n",
    "MAPE = \\frac{1}{2} \\int_{-1}^{1} \\left| \\frac{\\Delta T_{b,reference}(\\xi) - \\Delta T_{b,model}(\\xi)}{\\Delta T_{b,reference}(\\xi)} \\right| d\\xi \\cdot 100 \\%\n",
    "$$"
   ]
  },
  {
   "cell_type": "code",
   "execution_count": 10,
   "id": "d4dd276d-8435-43fe-b677-ae408052c178",
   "metadata": {},
   "outputs": [],
   "source": [
    "mape = ((jnp.abs((dT_b_ref.T - dT_b_model.T)) / dT_b_ref.T) @ w * 100).T"
   ]
  },
  {
   "cell_type": "code",
   "execution_count": 11,
   "id": "8c4044b9-6440-4c83-8973-821b3b496048",
   "metadata": {
    "jupyter": {
     "source_hidden": true
    }
   },
   "outputs": [
    {
     "data": {
      "text/html": [
       "<style type=\"text/css\">\n",
       "</style>\n",
       "<table id=\"T_49149\">\n",
       "  <caption>Mean Absolute Percentage Error (MAPE) [%]</caption>\n",
       "  <thead>\n",
       "    <tr>\n",
       "      <th class=\"blank level0\" >&nbsp;</th>\n",
       "      <th id=\"T_49149_level0_col0\" class=\"col_heading level0 col0\" >S = 1</th>\n",
       "      <th id=\"T_49149_level0_col1\" class=\"col_heading level0 col1\" >S = 2</th>\n",
       "      <th id=\"T_49149_level0_col2\" class=\"col_heading level0 col2\" >S = 3</th>\n",
       "      <th id=\"T_49149_level0_col3\" class=\"col_heading level0 col3\" >S = 4</th>\n",
       "      <th id=\"T_49149_level0_col4\" class=\"col_heading level0 col4\" >S = 5</th>\n",
       "    </tr>\n",
       "    <tr>\n",
       "      <th class=\"index_name level0\" >N</th>\n",
       "      <th class=\"blank col0\" >&nbsp;</th>\n",
       "      <th class=\"blank col1\" >&nbsp;</th>\n",
       "      <th class=\"blank col2\" >&nbsp;</th>\n",
       "      <th class=\"blank col3\" >&nbsp;</th>\n",
       "      <th class=\"blank col4\" >&nbsp;</th>\n",
       "    </tr>\n",
       "  </thead>\n",
       "  <tbody>\n",
       "    <tr>\n",
       "      <th id=\"T_49149_level0_row0\" class=\"row_heading level0 row0\" >1</th>\n",
       "      <td id=\"T_49149_row0_col0\" class=\"data row0 col0\" >8.517366</td>\n",
       "      <td id=\"T_49149_row0_col1\" class=\"data row0 col1\" >7.935041</td>\n",
       "      <td id=\"T_49149_row0_col2\" class=\"data row0 col2\" >6.850119</td>\n",
       "      <td id=\"T_49149_row0_col3\" class=\"data row0 col3\" >5.997211</td>\n",
       "      <td id=\"T_49149_row0_col4\" class=\"data row0 col4\" >5.302420</td>\n",
       "    </tr>\n",
       "    <tr>\n",
       "      <th id=\"T_49149_level0_row1\" class=\"row_heading level0 row1\" >2</th>\n",
       "      <td id=\"T_49149_row1_col0\" class=\"data row1 col0\" >7.888809</td>\n",
       "      <td id=\"T_49149_row1_col1\" class=\"data row1 col1\" >5.429889</td>\n",
       "      <td id=\"T_49149_row1_col2\" class=\"data row1 col2\" >3.911536</td>\n",
       "      <td id=\"T_49149_row1_col3\" class=\"data row1 col3\" >3.054621</td>\n",
       "      <td id=\"T_49149_row1_col4\" class=\"data row1 col4\" >2.473177</td>\n",
       "    </tr>\n",
       "    <tr>\n",
       "      <th id=\"T_49149_level0_row2\" class=\"row_heading level0 row2\" >3</th>\n",
       "      <td id=\"T_49149_row2_col0\" class=\"data row2 col0\" >4.887185</td>\n",
       "      <td id=\"T_49149_row2_col1\" class=\"data row2 col1\" >3.554982</td>\n",
       "      <td id=\"T_49149_row2_col2\" class=\"data row2 col2\" >2.301019</td>\n",
       "      <td id=\"T_49149_row2_col3\" class=\"data row2 col3\" >1.719075</td>\n",
       "      <td id=\"T_49149_row2_col4\" class=\"data row2 col4\" >1.362292</td>\n",
       "    </tr>\n",
       "    <tr>\n",
       "      <th id=\"T_49149_level0_row3\" class=\"row_heading level0 row3\" >4</th>\n",
       "      <td id=\"T_49149_row3_col0\" class=\"data row3 col0\" >4.147354</td>\n",
       "      <td id=\"T_49149_row3_col1\" class=\"data row3 col1\" >1.994586</td>\n",
       "      <td id=\"T_49149_row3_col2\" class=\"data row3 col2\" >1.324293</td>\n",
       "      <td id=\"T_49149_row3_col3\" class=\"data row3 col3\" >0.990975</td>\n",
       "      <td id=\"T_49149_row3_col4\" class=\"data row3 col4\" >0.784755</td>\n",
       "    </tr>\n",
       "    <tr>\n",
       "      <th id=\"T_49149_level0_row4\" class=\"row_heading level0 row4\" >5</th>\n",
       "      <td id=\"T_49149_row4_col0\" class=\"data row4 col0\" >2.349002</td>\n",
       "      <td id=\"T_49149_row4_col1\" class=\"data row4 col1\" >1.519440</td>\n",
       "      <td id=\"T_49149_row4_col2\" class=\"data row4 col2\" >0.977701</td>\n",
       "      <td id=\"T_49149_row4_col3\" class=\"data row4 col3\" >0.713692</td>\n",
       "      <td id=\"T_49149_row4_col4\" class=\"data row4 col4\" >0.580454</td>\n",
       "    </tr>\n",
       "    <tr>\n",
       "      <th id=\"T_49149_level0_row5\" class=\"row_heading level0 row5\" >6</th>\n",
       "      <td id=\"T_49149_row5_col0\" class=\"data row5 col0\" >1.989402</td>\n",
       "      <td id=\"T_49149_row5_col1\" class=\"data row5 col1\" >0.994596</td>\n",
       "      <td id=\"T_49149_row5_col2\" class=\"data row5 col2\" >0.653885</td>\n",
       "      <td id=\"T_49149_row5_col3\" class=\"data row5 col3\" >0.494181</td>\n",
       "      <td id=\"T_49149_row5_col4\" class=\"data row5 col4\" >0.388547</td>\n",
       "    </tr>\n",
       "    <tr>\n",
       "      <th id=\"T_49149_level0_row6\" class=\"row_heading level0 row6\" >7</th>\n",
       "      <td id=\"T_49149_row6_col0\" class=\"data row6 col0\" >1.375968</td>\n",
       "      <td id=\"T_49149_row6_col1\" class=\"data row6 col1\" >0.841627</td>\n",
       "      <td id=\"T_49149_row6_col2\" class=\"data row6 col2\" >0.543352</td>\n",
       "      <td id=\"T_49149_row6_col3\" class=\"data row6 col3\" >0.407464</td>\n",
       "      <td id=\"T_49149_row6_col4\" class=\"data row6 col4\" >0.338234</td>\n",
       "    </tr>\n",
       "    <tr>\n",
       "      <th id=\"T_49149_level0_row7\" class=\"row_heading level0 row7\" >8</th>\n",
       "      <td id=\"T_49149_row7_col0\" class=\"data row7 col0\" >1.174553</td>\n",
       "      <td id=\"T_49149_row7_col1\" class=\"data row7 col1\" >0.609581</td>\n",
       "      <td id=\"T_49149_row7_col2\" class=\"data row7 col2\" >0.400078</td>\n",
       "      <td id=\"T_49149_row7_col3\" class=\"data row7 col3\" >0.309321</td>\n",
       "      <td id=\"T_49149_row7_col4\" class=\"data row7 col4\" >0.245671</td>\n",
       "    </tr>\n",
       "    <tr>\n",
       "      <th id=\"T_49149_level0_row8\" class=\"row_heading level0 row8\" >9</th>\n",
       "      <td id=\"T_49149_row8_col0\" class=\"data row8 col0\" >0.912477</td>\n",
       "      <td id=\"T_49149_row8_col1\" class=\"data row8 col1\" >0.542215</td>\n",
       "      <td id=\"T_49149_row8_col2\" class=\"data row8 col2\" >0.363699</td>\n",
       "      <td id=\"T_49149_row8_col3\" class=\"data row8 col3\" >0.264089</td>\n",
       "      <td id=\"T_49149_row8_col4\" class=\"data row8 col4\" >0.205420</td>\n",
       "    </tr>\n",
       "    <tr>\n",
       "      <th id=\"T_49149_level0_row9\" class=\"row_heading level0 row9\" >10</th>\n",
       "      <td id=\"T_49149_row9_col0\" class=\"data row9 col0\" >0.786225</td>\n",
       "      <td id=\"T_49149_row9_col1\" class=\"data row9 col1\" >0.401150</td>\n",
       "      <td id=\"T_49149_row9_col2\" class=\"data row9 col2\" >0.273522</td>\n",
       "      <td id=\"T_49149_row9_col3\" class=\"data row9 col3\" >0.195704</td>\n",
       "      <td id=\"T_49149_row9_col4\" class=\"data row9 col4\" >0.146006</td>\n",
       "    </tr>\n",
       "    <tr>\n",
       "      <th id=\"T_49149_level0_row10\" class=\"row_heading level0 row10\" >11</th>\n",
       "      <td id=\"T_49149_row10_col0\" class=\"data row10 col0\" >0.651526</td>\n",
       "      <td id=\"T_49149_row10_col1\" class=\"data row10 col1\" >0.379297</td>\n",
       "      <td id=\"T_49149_row10_col2\" class=\"data row10 col2\" >0.245392</td>\n",
       "      <td id=\"T_49149_row10_col3\" class=\"data row10 col3\" >0.170491</td>\n",
       "      <td id=\"T_49149_row10_col4\" class=\"data row10 col4\" >0.145768</td>\n",
       "    </tr>\n",
       "  </tbody>\n",
       "</table>\n"
      ],
      "text/plain": [
       "<pandas.io.formats.style.Styler at 0x259665a2720>"
      ]
     },
     "execution_count": 11,
     "metadata": {},
     "output_type": "execute_result"
    }
   ],
   "source": [
    "# Format and print dataframe\n",
    "df_mape = pd.DataFrame(\n",
    "    mape,\n",
    "    columns=[f'S = {_S}' for _S in jnp.arange(1, S + 1)],\n",
    "    index=jnp.arange(1, N + 1))\n",
    "df_mape.index.name = 'N'\n",
    "df_mape.style.set_caption('Mean Absolute Percentage Error (MAPE) [%]') "
   ]
  },
  {
   "cell_type": "markdown",
   "id": "711ff0e7-fb1e-458f-909d-03179fc345f0",
   "metadata": {},
   "source": [
    "The root mean square error (RMSE) can also be evaluated:\n",
    "$$\n",
    "RMSE = \\sqrt{\\frac{1}{2} \\int_{-1}^{1} \\left[ \\Delta T_{b,reference}(\\xi) - \\Delta T_{b,model}(\\xi) \\right]^2 d\\xi}\n",
    "$$"
   ]
  },
  {
   "cell_type": "code",
   "execution_count": 12,
   "id": "94563531-b124-4165-b551-2fea28c58a83",
   "metadata": {},
   "outputs": [],
   "source": [
    "rmse = jnp.sqrt((dT_b_ref.T - dT_b_model.T)**2 @ w).T"
   ]
  },
  {
   "cell_type": "code",
   "execution_count": 13,
   "id": "98dc9cd5-f242-4663-8246-42bf92af3e6a",
   "metadata": {
    "jupyter": {
     "source_hidden": true
    }
   },
   "outputs": [
    {
     "data": {
      "text/html": [
       "<style type=\"text/css\">\n",
       "</style>\n",
       "<table id=\"T_59f4d\">\n",
       "  <caption>Root Mean Square Error (RMSE) $[\\degree \\text{C}]$</caption>\n",
       "  <thead>\n",
       "    <tr>\n",
       "      <th class=\"blank level0\" >&nbsp;</th>\n",
       "      <th id=\"T_59f4d_level0_col0\" class=\"col_heading level0 col0\" >S = 1</th>\n",
       "      <th id=\"T_59f4d_level0_col1\" class=\"col_heading level0 col1\" >S = 2</th>\n",
       "      <th id=\"T_59f4d_level0_col2\" class=\"col_heading level0 col2\" >S = 3</th>\n",
       "      <th id=\"T_59f4d_level0_col3\" class=\"col_heading level0 col3\" >S = 4</th>\n",
       "      <th id=\"T_59f4d_level0_col4\" class=\"col_heading level0 col4\" >S = 5</th>\n",
       "    </tr>\n",
       "    <tr>\n",
       "      <th class=\"index_name level0\" >N</th>\n",
       "      <th class=\"blank col0\" >&nbsp;</th>\n",
       "      <th class=\"blank col1\" >&nbsp;</th>\n",
       "      <th class=\"blank col2\" >&nbsp;</th>\n",
       "      <th class=\"blank col3\" >&nbsp;</th>\n",
       "      <th class=\"blank col4\" >&nbsp;</th>\n",
       "    </tr>\n",
       "  </thead>\n",
       "  <tbody>\n",
       "    <tr>\n",
       "      <th id=\"T_59f4d_level0_row0\" class=\"row_heading level0 row0\" >1</th>\n",
       "      <td id=\"T_59f4d_row0_col0\" class=\"data row0 col0\" >3.790968</td>\n",
       "      <td id=\"T_59f4d_row0_col1\" class=\"data row0 col1\" >3.558434</td>\n",
       "      <td id=\"T_59f4d_row0_col2\" class=\"data row0 col2\" >3.228357</td>\n",
       "      <td id=\"T_59f4d_row0_col3\" class=\"data row0 col3\" >2.940905</td>\n",
       "      <td id=\"T_59f4d_row0_col4\" class=\"data row0 col4\" >2.703541</td>\n",
       "    </tr>\n",
       "    <tr>\n",
       "      <th id=\"T_59f4d_level0_row1\" class=\"row_heading level0 row1\" >2</th>\n",
       "      <td id=\"T_59f4d_row1_col0\" class=\"data row1 col0\" >2.775100</td>\n",
       "      <td id=\"T_59f4d_row1_col1\" class=\"data row1 col1\" >2.052561</td>\n",
       "      <td id=\"T_59f4d_row1_col2\" class=\"data row1 col2\" >1.669920</td>\n",
       "      <td id=\"T_59f4d_row1_col3\" class=\"data row1 col3\" >1.427187</td>\n",
       "      <td id=\"T_59f4d_row1_col4\" class=\"data row1 col4\" >1.258575</td>\n",
       "    </tr>\n",
       "    <tr>\n",
       "      <th id=\"T_59f4d_level0_row2\" class=\"row_heading level0 row2\" >3</th>\n",
       "      <td id=\"T_59f4d_row2_col0\" class=\"data row2 col0\" >2.440133</td>\n",
       "      <td id=\"T_59f4d_row2_col1\" class=\"data row2 col1\" >1.718490</td>\n",
       "      <td id=\"T_59f4d_row2_col2\" class=\"data row2 col2\" >1.336535</td>\n",
       "      <td id=\"T_59f4d_row2_col3\" class=\"data row2 col3\" >1.120821</td>\n",
       "      <td id=\"T_59f4d_row2_col4\" class=\"data row2 col4\" >0.978344</td>\n",
       "    </tr>\n",
       "    <tr>\n",
       "      <th id=\"T_59f4d_level0_row3\" class=\"row_heading level0 row3\" >4</th>\n",
       "      <td id=\"T_59f4d_row3_col0\" class=\"data row3 col0\" >1.635607</td>\n",
       "      <td id=\"T_59f4d_row3_col1\" class=\"data row3 col1\" >1.027208</td>\n",
       "      <td id=\"T_59f4d_row3_col2\" class=\"data row3 col2\" >0.808248</td>\n",
       "      <td id=\"T_59f4d_row3_col3\" class=\"data row3 col3\" >0.681654</td>\n",
       "      <td id=\"T_59f4d_row3_col4\" class=\"data row3 col4\" >0.595983</td>\n",
       "    </tr>\n",
       "    <tr>\n",
       "      <th id=\"T_59f4d_level0_row4\" class=\"row_heading level0 row4\" >5</th>\n",
       "      <td id=\"T_59f4d_row4_col0\" class=\"data row4 col0\" >1.429542</td>\n",
       "      <td id=\"T_59f4d_row4_col1\" class=\"data row4 col1\" >0.965185</td>\n",
       "      <td id=\"T_59f4d_row4_col2\" class=\"data row4 col2\" >0.751787</td>\n",
       "      <td id=\"T_59f4d_row4_col3\" class=\"data row4 col3\" >0.628529</td>\n",
       "      <td id=\"T_59f4d_row4_col4\" class=\"data row4 col4\" >0.545240</td>\n",
       "    </tr>\n",
       "    <tr>\n",
       "      <th id=\"T_59f4d_level0_row5\" class=\"row_heading level0 row5\" >6</th>\n",
       "      <td id=\"T_59f4d_row5_col0\" class=\"data row5 col0\" >1.013631</td>\n",
       "      <td id=\"T_59f4d_row5_col1\" class=\"data row5 col1\" >0.656260</td>\n",
       "      <td id=\"T_59f4d_row5_col2\" class=\"data row5 col2\" >0.512114</td>\n",
       "      <td id=\"T_59f4d_row5_col3\" class=\"data row5 col3\" >0.426514</td>\n",
       "      <td id=\"T_59f4d_row5_col4\" class=\"data row5 col4\" >0.367861</td>\n",
       "    </tr>\n",
       "    <tr>\n",
       "      <th id=\"T_59f4d_level0_row6\" class=\"row_heading level0 row6\" >7</th>\n",
       "      <td id=\"T_59f4d_row6_col0\" class=\"data row6 col0\" >0.988656</td>\n",
       "      <td id=\"T_59f4d_row6_col1\" class=\"data row6 col1\" >0.655733</td>\n",
       "      <td id=\"T_59f4d_row6_col2\" class=\"data row6 col2\" >0.504777</td>\n",
       "      <td id=\"T_59f4d_row6_col3\" class=\"data row6 col3\" >0.415619</td>\n",
       "      <td id=\"T_59f4d_row6_col4\" class=\"data row6 col4\" >0.354647</td>\n",
       "    </tr>\n",
       "    <tr>\n",
       "      <th id=\"T_59f4d_level0_row7\" class=\"row_heading level0 row7\" >8</th>\n",
       "      <td id=\"T_59f4d_row7_col0\" class=\"data row7 col0\" >0.727877</td>\n",
       "      <td id=\"T_59f4d_row7_col1\" class=\"data row7 col1\" >0.469648</td>\n",
       "      <td id=\"T_59f4d_row7_col2\" class=\"data row7 col2\" >0.359547</td>\n",
       "      <td id=\"T_59f4d_row7_col3\" class=\"data row7 col3\" >0.293454</td>\n",
       "      <td id=\"T_59f4d_row7_col4\" class=\"data row7 col4\" >0.247929</td>\n",
       "    </tr>\n",
       "    <tr>\n",
       "      <th id=\"T_59f4d_level0_row8\" class=\"row_heading level0 row8\" >9</th>\n",
       "      <td id=\"T_59f4d_row8_col0\" class=\"data row8 col0\" >0.744947</td>\n",
       "      <td id=\"T_59f4d_row8_col1\" class=\"data row8 col1\" >0.482579</td>\n",
       "      <td id=\"T_59f4d_row8_col2\" class=\"data row8 col2\" >0.363742</td>\n",
       "      <td id=\"T_59f4d_row8_col3\" class=\"data row8 col3\" >0.292705</td>\n",
       "      <td id=\"T_59f4d_row8_col4\" class=\"data row8 col4\" >0.243824</td>\n",
       "    </tr>\n",
       "    <tr>\n",
       "      <th id=\"T_59f4d_level0_row9\" class=\"row_heading level0 row9\" >10</th>\n",
       "      <td id=\"T_59f4d_row9_col0\" class=\"data row9 col0\" >0.560541</td>\n",
       "      <td id=\"T_59f4d_row9_col1\" class=\"data row9 col1\" >0.354617</td>\n",
       "      <td id=\"T_59f4d_row9_col2\" class=\"data row9 col2\" >0.264554</td>\n",
       "      <td id=\"T_59f4d_row9_col3\" class=\"data row9 col3\" >0.210201</td>\n",
       "      <td id=\"T_59f4d_row9_col4\" class=\"data row9 col4\" >0.172666</td>\n",
       "    </tr>\n",
       "    <tr>\n",
       "      <th id=\"T_59f4d_level0_row10\" class=\"row_heading level0 row10\" >11</th>\n",
       "      <td id=\"T_59f4d_row10_col0\" class=\"data row10 col0\" >0.587961</td>\n",
       "      <td id=\"T_59f4d_row10_col1\" class=\"data row10 col1\" >0.369987</td>\n",
       "      <td id=\"T_59f4d_row10_col2\" class=\"data row10 col2\" >0.271102</td>\n",
       "      <td id=\"T_59f4d_row10_col3\" class=\"data row10 col3\" >0.211670</td>\n",
       "      <td id=\"T_59f4d_row10_col4\" class=\"data row10 col4\" >0.170858</td>\n",
       "    </tr>\n",
       "  </tbody>\n",
       "</table>\n"
      ],
      "text/plain": [
       "<pandas.io.formats.style.Styler at 0x259c94c55b0>"
      ]
     },
     "execution_count": 13,
     "metadata": {},
     "output_type": "execute_result"
    }
   ],
   "source": [
    "# Format and print dataframe\n",
    "df_rmse = pd.DataFrame(\n",
    "    rmse,\n",
    "    columns=[f'S = {_S}' for _S in jnp.arange(1, S + 1)],\n",
    "    index=jnp.arange(1, N + 1))\n",
    "df_rmse.index.name = 'N'\n",
    "df_rmse.style.set_caption(r'Root Mean Square Error (RMSE) $[\\degree \\text{C}]$') "
   ]
  }
 ],
 "metadata": {
  "kernelspec": {
   "display_name": "Python 3 (ipykernel)",
   "language": "python",
   "name": "python3"
  },
  "language_info": {
   "codemirror_mode": {
    "name": "ipython",
    "version": 3
   },
   "file_extension": ".py",
   "mimetype": "text/x-python",
   "name": "python",
   "nbconvert_exporter": "python",
   "pygments_lexer": "ipython3",
   "version": "3.12.4"
  }
 },
 "nbformat": 4,
 "nbformat_minor": 5
}
