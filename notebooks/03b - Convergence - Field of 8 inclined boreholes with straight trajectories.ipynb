{
 "cells": [
  {
   "cell_type": "markdown",
   "id": "ee1c2b0b-03dc-4686-804d-52b67bae42b0",
   "metadata": {},
   "source": [
    "# 3. Field of 8 inclined boreholes with straight trajectories : (b) Convergence of geothermax with regards to the discretization\n",
    "The convergence of the model is evaluated by comparison with a solution obtained with a fine discretization."
   ]
  },
  {
   "cell_type": "code",
   "execution_count": 1,
   "id": "bbd7e7e5-105d-4b3f-b3b5-2528c3ca1957",
   "metadata": {
    "jupyter": {
     "source_hidden": true
    }
   },
   "outputs": [],
   "source": [
    "# Import necessary packages\n",
    "# Import packages for geothermax\n",
    "import geothermax as gm\n",
    "from jax import numpy as jnp\n",
    "\n",
    "# Import packages for visualization\n",
    "from matplotlib import pyplot as plt\n",
    "import pandas as pd"
   ]
  },
  {
   "cell_type": "markdown",
   "id": "40e62f1d-a189-46bb-84dc-1bf85a5d71bf",
   "metadata": {},
   "source": [
    "### 3(b).1. Simulation parameters"
   ]
  },
  {
   "cell_type": "code",
   "execution_count": 2,
   "id": "010d3cb6-cbd9-49c0-b874-63c6c6e16c79",
   "metadata": {},
   "outputs": [],
   "source": [
    "# Borehole dimensions\n",
    "D = 2.0             # Borehole buried depth (m)\n",
    "L = 150.0           # Borehole length (m)\n",
    "r_b = 0.075         # Borehole radius (m)\n",
    "# Borehole spacings (m), tilt (deg), and inclinations (deg)\n",
    "B = L * 0.025\n",
    "tilt = jnp.radians(20.)\n",
    "orientation = jnp.radians(jnp.array([180., 135., -135., 90., -90., 45., -45, 0.]))\n",
    "\n",
    "# Pipe dimensions\n",
    "r_out = 0.0211      # Pipe outer radius (m)\n",
    "r_in = 0.0147       # Pipe inner radius (m)\n",
    "D_s = 0.052         # Shank spacing (m)\n",
    "epsilon = 2.12e-5   # Pipe roughness (m)\n",
    "\n",
    "# Pipe positions\n",
    "# Single U-tube : [[x_in, y_in], [x_out, y_out]]\n",
    "p_pipes = jnp.array([[-D_s, 0.], [D_s, 0.]])\n",
    "\n",
    "# Ground properties\n",
    "alpha = 1.0e-6      # Ground thermal diffusivity (m2/s)\n",
    "k_s = 2.0           # Ground thermal conductivity (W/m.K)\n",
    "\n",
    "# Grout properties\n",
    "k_b = 1.0           # Grout thermal conductivity (W/m.K)\n",
    "\n",
    "# Pipe properties\n",
    "k_p = 0.4           # Pipe thermal conductivity (W/m.K)\n",
    "\n",
    "# Fluid properties\n",
    "m_flow_borehole = 0.375 # Total fluid mass flow rate per borehole (kg/s)\n",
    "m_flow_network = m_flow_borehole * len(orientation)\n",
    "# The fluid is propylene-glycol (20 %) at 20 degC\n",
    "cp_f = 3976.8       # Fluid specific heat capacity (in J/kg-K)\n",
    "rho_f = 1014.8      # Fluid density (kg/m3)\n",
    "mu_f = 2.0301e-3    # Fluid dynamic viscosity (kg/m.s)\n",
    "k_f = 0.49221       # Fluid thermal conductivity (W/m.K)"
   ]
  },
  {
   "cell_type": "markdown",
   "id": "26814067-0730-493e-a18d-97ce22d680bf",
   "metadata": {},
   "source": [
    "The convergence of the solution is evaluated near steady-state, at $\\ln(t/t_s)=5$."
   ]
  },
  {
   "cell_type": "code",
   "execution_count": 3,
   "id": "d7b90183-f864-4967-81c9-c43ef16d2a70",
   "metadata": {},
   "outputs": [],
   "source": [
    "ts = L**2 / (9 * alpha)    # Bore field characteristic time\n",
    "lntts = jnp.array([5.])\n",
    "time = jnp.exp(lntts) * ts"
   ]
  },
  {
   "cell_type": "markdown",
   "id": "95d656ab-c995-41ac-a63c-1fcadb0d4f14",
   "metadata": {},
   "source": [
    "## 3(b).2. Reference solution\n",
    "The reference solution is evaluated using $S=20$ segments of $N=11$ nodes (220 nodes in total)."
   ]
  },
  {
   "cell_type": "code",
   "execution_count": 4,
   "id": "717f9cb0-739b-45b9-8414-11d9f8d82bae",
   "metadata": {},
   "outputs": [],
   "source": [
    "N_ref = 11\n",
    "S_ref = 20\n",
    "\n",
    "basis = gm.Basis.Legendre(N_ref)\n",
    "ground_heat_exchanger = gm.UTubeHeatExchanger(\n",
    "    p_pipes, r_in, r_out, r_b, k_s, k_b, k_p, mu_f, rho_f, k_f, cp_f, epsilon)\n",
    "R_d = ground_heat_exchanger.thermal_resistances(m_flow_borehole)\n",
    "boreholes = []\n",
    "for i, _orientation in enumerate(orientation):\n",
    "    boreholes.append(\n",
    "        gm.SingleUTube.from_dimensions(\n",
    "            R_d, L, D, r_b, i * B, 0., basis, S_ref, tilt=tilt, orientation=_orientation))\n",
    "borefield_reference = gm.Network(boreholes)"
   ]
  },
  {
   "cell_type": "markdown",
   "id": "8dfb6be1-d58a-4940-92e7-2067f096d35b",
   "metadata": {},
   "source": [
    "The `gFunction` object is initialized and the $g$-function is evaluated."
   ]
  },
  {
   "cell_type": "code",
   "execution_count": 5,
   "id": "3c067a00-67e6-4804-acfb-322b85dbee4b",
   "metadata": {},
   "outputs": [
    {
     "name": "stdout",
     "output_type": "stream",
     "text": [
      "Simulation start.\n",
      "Simulation end. Elapsed time: 3.19 seconds.\n"
     ]
    }
   ],
   "source": [
    "gfunc_reference = gm.gFunction(borefield_reference, m_flow_network, cp_f, time, alpha, k_s)\n",
    "gfunc_reference.simulate()"
   ]
  },
  {
   "cell_type": "markdown",
   "id": "a331630c-62d0-44db-b78d-cc74d5958524",
   "metadata": {},
   "source": [
    "## 3(b).3. Convergence of geothermax\n",
    "The solution is evaluated for numbers of segments ranging from $1$ to $5$ and for numbers of nodes per segment ranging from $1$ to $11$.\n",
    "\n",
    "The `Borefield` objects are first initialized for each discretization."
   ]
  },
  {
   "cell_type": "code",
   "execution_count": 6,
   "id": "af795cd8-4c85-4f40-8659-131f029c7df4",
   "metadata": {},
   "outputs": [],
   "source": [
    "N_max = 11\n",
    "S_max = 5\n",
    "n = 0\n",
    "\n",
    "borefields = []\n",
    "for _S in range(1, S_max + 1):\n",
    "    for _N in range(1, N_max + 1):\n",
    "        basis = gm.Basis.Legendre(_N)\n",
    "        boreholes = []\n",
    "        for i, _orientation in enumerate(orientation):\n",
    "            boreholes.append(\n",
    "                gm.SingleUTube.from_dimensions(\n",
    "                    R_d, L, D, r_b, i * B, 0., basis, _S, tilt=tilt, orientation=_orientation))\n",
    "        borefields.append(gm.Network(boreholes))"
   ]
  },
  {
   "cell_type": "markdown",
   "id": "a807514f-4d2f-4e96-8ed8-757a84213aa1",
   "metadata": {},
   "source": [
    "The $g$-functions are then evaluated."
   ]
  },
  {
   "cell_type": "code",
   "execution_count": 7,
   "id": "44773191-4c32-452b-bec7-9c4cd93cceb0",
   "metadata": {},
   "outputs": [],
   "source": [
    "gfunc = [gm.gFunction(borefield, m_flow_network, cp_f, time, alpha, k_s) for borefield in borefields]"
   ]
  },
  {
   "cell_type": "code",
   "execution_count": 8,
   "id": "18ae3006-d9f0-4af6-877b-e7a7181c8140",
   "metadata": {
    "scrolled": true
   },
   "outputs": [
    {
     "name": "stdout",
     "output_type": "stream",
     "text": [
      "Simulation start.\n",
      "Simulation end. Elapsed time: 1.93 seconds.\n",
      "Simulation start.\n",
      "Simulation end. Elapsed time: 1.84 seconds.\n",
      "Simulation start.\n",
      "Simulation end. Elapsed time: 1.82 seconds.\n",
      "Simulation start.\n",
      "Simulation end. Elapsed time: 1.79 seconds.\n",
      "Simulation start.\n",
      "Simulation end. Elapsed time: 1.77 seconds.\n",
      "Simulation start.\n",
      "Simulation end. Elapsed time: 1.78 seconds.\n",
      "Simulation start.\n",
      "Simulation end. Elapsed time: 1.79 seconds.\n",
      "Simulation start.\n",
      "Simulation end. Elapsed time: 1.76 seconds.\n",
      "Simulation start.\n",
      "Simulation end. Elapsed time: 1.82 seconds.\n",
      "Simulation start.\n",
      "Simulation end. Elapsed time: 1.80 seconds.\n",
      "Simulation start.\n",
      "Simulation end. Elapsed time: 1.81 seconds.\n",
      "Simulation start.\n",
      "Simulation end. Elapsed time: 1.19 seconds.\n",
      "Simulation start.\n",
      "Simulation end. Elapsed time: 1.21 seconds.\n",
      "Simulation start.\n",
      "Simulation end. Elapsed time: 1.18 seconds.\n",
      "Simulation start.\n",
      "Simulation end. Elapsed time: 1.22 seconds.\n",
      "Simulation start.\n",
      "Simulation end. Elapsed time: 1.20 seconds.\n",
      "Simulation start.\n",
      "Simulation end. Elapsed time: 1.84 seconds.\n",
      "Simulation start.\n",
      "Simulation end. Elapsed time: 1.82 seconds.\n",
      "Simulation start.\n",
      "Simulation end. Elapsed time: 1.78 seconds.\n",
      "Simulation start.\n",
      "Simulation end. Elapsed time: 1.81 seconds.\n",
      "Simulation start.\n",
      "Simulation end. Elapsed time: 6.55 seconds.\n",
      "Simulation start.\n",
      "Simulation end. Elapsed time: 1.86 seconds.\n",
      "Simulation start.\n",
      "Simulation end. Elapsed time: 1.19 seconds.\n",
      "Simulation start.\n",
      "Simulation end. Elapsed time: 1.20 seconds.\n",
      "Simulation start.\n",
      "Simulation end. Elapsed time: 1.28 seconds.\n",
      "Simulation start.\n",
      "Simulation end. Elapsed time: 1.32 seconds.\n",
      "Simulation start.\n",
      "Simulation end. Elapsed time: 1.92 seconds.\n",
      "Simulation start.\n",
      "Simulation end. Elapsed time: 1.34 seconds.\n",
      "Simulation start.\n",
      "Simulation end. Elapsed time: 1.89 seconds.\n",
      "Simulation start.\n",
      "Simulation end. Elapsed time: 1.86 seconds.\n",
      "Simulation start.\n",
      "Simulation end. Elapsed time: 2.02 seconds.\n",
      "Simulation start.\n",
      "Simulation end. Elapsed time: 2.03 seconds.\n",
      "Simulation start.\n",
      "Simulation end. Elapsed time: 1.89 seconds.\n",
      "Simulation start.\n",
      "Simulation end. Elapsed time: 1.24 seconds.\n",
      "Simulation start.\n",
      "Simulation end. Elapsed time: 1.29 seconds.\n",
      "Simulation start.\n",
      "Simulation end. Elapsed time: 1.25 seconds.\n",
      "Simulation start.\n",
      "Simulation end. Elapsed time: 1.24 seconds.\n",
      "Simulation start.\n",
      "Simulation end. Elapsed time: 1.22 seconds.\n",
      "Simulation start.\n",
      "Simulation end. Elapsed time: 1.24 seconds.\n",
      "Simulation start.\n",
      "Simulation end. Elapsed time: 1.90 seconds.\n",
      "Simulation start.\n",
      "Simulation end. Elapsed time: 1.86 seconds.\n",
      "Simulation start.\n",
      "Simulation end. Elapsed time: 1.97 seconds.\n",
      "Simulation start.\n",
      "Simulation end. Elapsed time: 1.90 seconds.\n",
      "Simulation start.\n",
      "Simulation end. Elapsed time: 1.93 seconds.\n",
      "Simulation start.\n",
      "Simulation end. Elapsed time: 1.21 seconds.\n",
      "Simulation start.\n",
      "Simulation end. Elapsed time: 1.24 seconds.\n",
      "Simulation start.\n",
      "Simulation end. Elapsed time: 6.55 seconds.\n",
      "Simulation start.\n",
      "Simulation end. Elapsed time: 1.21 seconds.\n",
      "Simulation start.\n",
      "Simulation end. Elapsed time: 1.85 seconds.\n",
      "Simulation start.\n",
      "Simulation end. Elapsed time: 1.22 seconds.\n",
      "Simulation start.\n",
      "Simulation end. Elapsed time: 1.96 seconds.\n",
      "Simulation start.\n",
      "Simulation end. Elapsed time: 1.23 seconds.\n",
      "Simulation start.\n",
      "Simulation end. Elapsed time: 1.93 seconds.\n",
      "Simulation start.\n",
      "Simulation end. Elapsed time: 1.88 seconds.\n",
      "Simulation start.\n",
      "Simulation end. Elapsed time: 1.93 seconds.\n"
     ]
    }
   ],
   "source": [
    "for _gfunc in gfunc:\n",
    "    _gfunc.simulate()\n",
    "values = jnp.array([_gfunc.g[-1] for _gfunc in gfunc]).reshape(S_max, N_max).T"
   ]
  },
  {
   "cell_type": "code",
   "execution_count": 9,
   "id": "dd336ca6-d064-4f3d-b668-e270986d9b94",
   "metadata": {
    "jupyter": {
     "source_hidden": true
    }
   },
   "outputs": [
    {
     "data": {
      "text/html": [
       "<style type=\"text/css\">\n",
       "</style>\n",
       "<table id=\"T_0ee08\">\n",
       "  <caption>$g$-Function at $ln(t/t_s)=5$</caption>\n",
       "  <thead>\n",
       "    <tr>\n",
       "      <th class=\"blank level0\" >&nbsp;</th>\n",
       "      <th id=\"T_0ee08_level0_col0\" class=\"col_heading level0 col0\" >S = 1</th>\n",
       "      <th id=\"T_0ee08_level0_col1\" class=\"col_heading level0 col1\" >S = 2</th>\n",
       "      <th id=\"T_0ee08_level0_col2\" class=\"col_heading level0 col2\" >S = 3</th>\n",
       "      <th id=\"T_0ee08_level0_col3\" class=\"col_heading level0 col3\" >S = 4</th>\n",
       "      <th id=\"T_0ee08_level0_col4\" class=\"col_heading level0 col4\" >S = 5</th>\n",
       "    </tr>\n",
       "    <tr>\n",
       "      <th class=\"index_name level0\" >N</th>\n",
       "      <th class=\"blank col0\" >&nbsp;</th>\n",
       "      <th class=\"blank col1\" >&nbsp;</th>\n",
       "      <th class=\"blank col2\" >&nbsp;</th>\n",
       "      <th class=\"blank col3\" >&nbsp;</th>\n",
       "      <th class=\"blank col4\" >&nbsp;</th>\n",
       "    </tr>\n",
       "  </thead>\n",
       "  <tbody>\n",
       "    <tr>\n",
       "      <th id=\"T_0ee08_level0_row0\" class=\"row_heading level0 row0\" >1</th>\n",
       "      <td id=\"T_0ee08_row0_col0\" class=\"data row0 col0\" >12.869989</td>\n",
       "      <td id=\"T_0ee08_row0_col1\" class=\"data row0 col1\" >12.297009</td>\n",
       "      <td id=\"T_0ee08_row0_col2\" class=\"data row0 col2\" >12.079844</td>\n",
       "      <td id=\"T_0ee08_row0_col3\" class=\"data row0 col3\" >11.957014</td>\n",
       "      <td id=\"T_0ee08_row0_col4\" class=\"data row0 col4\" >11.875274</td>\n",
       "    </tr>\n",
       "    <tr>\n",
       "      <th id=\"T_0ee08_level0_row1\" class=\"row_heading level0 row1\" >2</th>\n",
       "      <td id=\"T_0ee08_row1_col0\" class=\"data row1 col0\" >12.084941</td>\n",
       "      <td id=\"T_0ee08_row1_col1\" class=\"data row1 col1\" >11.808675</td>\n",
       "      <td id=\"T_0ee08_row1_col2\" class=\"data row1 col2\" >11.708838</td>\n",
       "      <td id=\"T_0ee08_row1_col3\" class=\"data row1 col3\" >11.656537</td>\n",
       "      <td id=\"T_0ee08_row1_col4\" class=\"data row1 col4\" >11.623466</td>\n",
       "    </tr>\n",
       "    <tr>\n",
       "      <th id=\"T_0ee08_level0_row2\" class=\"row_heading level0 row2\" >3</th>\n",
       "      <td id=\"T_0ee08_row2_col0\" class=\"data row2 col0\" >11.811336</td>\n",
       "      <td id=\"T_0ee08_row2_col1\" class=\"data row2 col1\" >11.657563</td>\n",
       "      <td id=\"T_0ee08_row2_col2\" class=\"data row2 col2\" >11.603532</td>\n",
       "      <td id=\"T_0ee08_row2_col3\" class=\"data row2 col3\" >11.574361</td>\n",
       "      <td id=\"T_0ee08_row2_col4\" class=\"data row2 col4\" >11.557341</td>\n",
       "    </tr>\n",
       "    <tr>\n",
       "      <th id=\"T_0ee08_level0_row3\" class=\"row_heading level0 row3\" >4</th>\n",
       "      <td id=\"T_0ee08_row3_col0\" class=\"data row3 col0\" >11.688239</td>\n",
       "      <td id=\"T_0ee08_row3_col1\" class=\"data row3 col1\" >11.591563</td>\n",
       "      <td id=\"T_0ee08_row3_col2\" class=\"data row3 col2\" >11.557912</td>\n",
       "      <td id=\"T_0ee08_row3_col3\" class=\"data row3 col3\" >11.542287</td>\n",
       "      <td id=\"T_0ee08_row3_col4\" class=\"data row3 col4\" >11.534644</td>\n",
       "    </tr>\n",
       "    <tr>\n",
       "      <th id=\"T_0ee08_level0_row4\" class=\"row_heading level0 row4\" >5</th>\n",
       "      <td id=\"T_0ee08_row4_col0\" class=\"data row4 col0\" >11.622024</td>\n",
       "      <td id=\"T_0ee08_row4_col1\" class=\"data row4 col1\" >11.558988</td>\n",
       "      <td id=\"T_0ee08_row4_col2\" class=\"data row4 col2\" >11.538389</td>\n",
       "      <td id=\"T_0ee08_row4_col3\" class=\"data row4 col3\" >11.530086</td>\n",
       "      <td id=\"T_0ee08_row4_col4\" class=\"data row4 col4\" >11.526008</td>\n",
       "    </tr>\n",
       "    <tr>\n",
       "      <th id=\"T_0ee08_level0_row5\" class=\"row_heading level0 row5\" >6</th>\n",
       "      <td id=\"T_0ee08_row5_col0\" class=\"data row5 col0\" >11.584893</td>\n",
       "      <td id=\"T_0ee08_row5_col1\" class=\"data row5 col1\" >11.541694</td>\n",
       "      <td id=\"T_0ee08_row5_col2\" class=\"data row5 col2\" >11.528886</td>\n",
       "      <td id=\"T_0ee08_row5_col3\" class=\"data row5 col3\" >11.523863</td>\n",
       "      <td id=\"T_0ee08_row5_col4\" class=\"data row5 col4\" >11.521099</td>\n",
       "    </tr>\n",
       "    <tr>\n",
       "      <th id=\"T_0ee08_level0_row6\" class=\"row_heading level0 row6\" >7</th>\n",
       "      <td id=\"T_0ee08_row6_col0\" class=\"data row6 col0\" >11.562249</td>\n",
       "      <td id=\"T_0ee08_row6_col1\" class=\"data row6 col1\" >11.532378</td>\n",
       "      <td id=\"T_0ee08_row6_col2\" class=\"data row6 col2\" >11.523664</td>\n",
       "      <td id=\"T_0ee08_row6_col3\" class=\"data row6 col3\" >11.520152</td>\n",
       "      <td id=\"T_0ee08_row6_col4\" class=\"data row6 col4\" >11.517903</td>\n",
       "    </tr>\n",
       "    <tr>\n",
       "      <th id=\"T_0ee08_level0_row7\" class=\"row_heading level0 row7\" >8</th>\n",
       "      <td id=\"T_0ee08_row7_col0\" class=\"data row7 col0\" >11.548530</td>\n",
       "      <td id=\"T_0ee08_row7_col1\" class=\"data row7 col1\" >11.526521</td>\n",
       "      <td id=\"T_0ee08_row7_col2\" class=\"data row7 col2\" >11.520242</td>\n",
       "      <td id=\"T_0ee08_row7_col3\" class=\"data row7 col3\" >11.517507</td>\n",
       "      <td id=\"T_0ee08_row7_col4\" class=\"data row7 col4\" >11.515525</td>\n",
       "    </tr>\n",
       "    <tr>\n",
       "      <th id=\"T_0ee08_level0_row8\" class=\"row_heading level0 row8\" >9</th>\n",
       "      <td id=\"T_0ee08_row8_col0\" class=\"data row8 col0\" >11.539731</td>\n",
       "      <td id=\"T_0ee08_row8_col1\" class=\"data row8 col1\" >11.522573</td>\n",
       "      <td id=\"T_0ee08_row8_col2\" class=\"data row8 col2\" >11.517810</td>\n",
       "      <td id=\"T_0ee08_row8_col3\" class=\"data row8 col3\" >11.515475</td>\n",
       "      <td id=\"T_0ee08_row8_col4\" class=\"data row8 col4\" >11.513629</td>\n",
       "    </tr>\n",
       "    <tr>\n",
       "      <th id=\"T_0ee08_level0_row9\" class=\"row_heading level0 row9\" >10</th>\n",
       "      <td id=\"T_0ee08_row9_col0\" class=\"data row9 col0\" >11.533763</td>\n",
       "      <td id=\"T_0ee08_row9_col1\" class=\"data row9 col1\" >11.519595</td>\n",
       "      <td id=\"T_0ee08_row9_col2\" class=\"data row9 col2\" >11.515876</td>\n",
       "      <td id=\"T_0ee08_row9_col3\" class=\"data row9 col3\" >11.513751</td>\n",
       "      <td id=\"T_0ee08_row9_col4\" class=\"data row9 col4\" >11.512053</td>\n",
       "    </tr>\n",
       "    <tr>\n",
       "      <th id=\"T_0ee08_level0_row10\" class=\"row_heading level0 row10\" >11</th>\n",
       "      <td id=\"T_0ee08_row10_col0\" class=\"data row10 col0\" >11.529513</td>\n",
       "      <td id=\"T_0ee08_row10_col1\" class=\"data row10 col1\" >11.517541</td>\n",
       "      <td id=\"T_0ee08_row10_col2\" class=\"data row10 col2\" >11.514489</td>\n",
       "      <td id=\"T_0ee08_row10_col3\" class=\"data row10 col3\" >11.512462</td>\n",
       "      <td id=\"T_0ee08_row10_col4\" class=\"data row10 col4\" >11.510980</td>\n",
       "    </tr>\n",
       "  </tbody>\n",
       "</table>\n"
      ],
      "text/plain": [
       "<pandas.io.formats.style.Styler at 0x22e6c432180>"
      ]
     },
     "execution_count": 9,
     "metadata": {},
     "output_type": "execute_result"
    }
   ],
   "source": [
    "# Format and print dataframe\n",
    "df = pd.DataFrame(\n",
    "    values,\n",
    "    columns=[f'S = {_S}' for _S in jnp.arange(1, S_max + 1)],\n",
    "    index=jnp.arange(1, N_max + 1))\n",
    "df.index.name = 'N'\n",
    "df.style.set_caption(r'$g$-Function at $ln(t/t_s)=5$') "
   ]
  },
  {
   "cell_type": "markdown",
   "id": "28338ed7-ae78-4757-8f15-a9226487de79",
   "metadata": {},
   "source": [
    "The relative error is calculated from the difference between the solution and the reference:\n",
    "$$\n",
    "\\varepsilon_{rel} = \\frac{g - g_{ref}}{g_{ref}}\n",
    "$$"
   ]
  },
  {
   "cell_type": "code",
   "execution_count": 10,
   "id": "643bdbea-3f33-4861-a380-e46f25fa5ed3",
   "metadata": {},
   "outputs": [],
   "source": [
    "error = (jnp.array([_gfunc.g[-1] for _gfunc in gfunc]).reshape(S_max, N_max).T - gfunc_reference.g[-1]) / gfunc_reference.g[-1]"
   ]
  },
  {
   "cell_type": "code",
   "execution_count": 11,
   "id": "7c4f4b7d-1799-421c-9243-4098772aadb1",
   "metadata": {
    "jupyter": {
     "source_hidden": true
    }
   },
   "outputs": [
    {
     "data": {
      "text/html": [
       "<style type=\"text/css\">\n",
       "</style>\n",
       "<table id=\"T_2b75d\">\n",
       "  <caption>Relative error on the $g$-function at $ln(t/t_s)=5$</caption>\n",
       "  <thead>\n",
       "    <tr>\n",
       "      <th class=\"blank level0\" >&nbsp;</th>\n",
       "      <th id=\"T_2b75d_level0_col0\" class=\"col_heading level0 col0\" >S = 1</th>\n",
       "      <th id=\"T_2b75d_level0_col1\" class=\"col_heading level0 col1\" >S = 2</th>\n",
       "      <th id=\"T_2b75d_level0_col2\" class=\"col_heading level0 col2\" >S = 3</th>\n",
       "      <th id=\"T_2b75d_level0_col3\" class=\"col_heading level0 col3\" >S = 4</th>\n",
       "      <th id=\"T_2b75d_level0_col4\" class=\"col_heading level0 col4\" >S = 5</th>\n",
       "    </tr>\n",
       "    <tr>\n",
       "      <th class=\"index_name level0\" >N</th>\n",
       "      <th class=\"blank col0\" >&nbsp;</th>\n",
       "      <th class=\"blank col1\" >&nbsp;</th>\n",
       "      <th class=\"blank col2\" >&nbsp;</th>\n",
       "      <th class=\"blank col3\" >&nbsp;</th>\n",
       "      <th class=\"blank col4\" >&nbsp;</th>\n",
       "    </tr>\n",
       "  </thead>\n",
       "  <tbody>\n",
       "    <tr>\n",
       "      <th id=\"T_2b75d_level0_row0\" class=\"row_heading level0 row0\" >1</th>\n",
       "      <td id=\"T_2b75d_row0_col0\" class=\"data row0 col0\" >0.118446</td>\n",
       "      <td id=\"T_2b75d_row0_col1\" class=\"data row0 col1\" >0.068652</td>\n",
       "      <td id=\"T_2b75d_row0_col2\" class=\"data row0 col2\" >0.049780</td>\n",
       "      <td id=\"T_2b75d_row0_col3\" class=\"data row0 col3\" >0.039106</td>\n",
       "      <td id=\"T_2b75d_row0_col4\" class=\"data row0 col4\" >0.032002</td>\n",
       "    </tr>\n",
       "    <tr>\n",
       "      <th id=\"T_2b75d_level0_row1\" class=\"row_heading level0 row1\" >2</th>\n",
       "      <td id=\"T_2b75d_row1_col0\" class=\"data row1 col0\" >0.050223</td>\n",
       "      <td id=\"T_2b75d_row1_col1\" class=\"data row1 col1\" >0.026214</td>\n",
       "      <td id=\"T_2b75d_row1_col2\" class=\"data row1 col2\" >0.017538</td>\n",
       "      <td id=\"T_2b75d_row1_col3\" class=\"data row1 col3\" >0.012993</td>\n",
       "      <td id=\"T_2b75d_row1_col4\" class=\"data row1 col4\" >0.010119</td>\n",
       "    </tr>\n",
       "    <tr>\n",
       "      <th id=\"T_2b75d_level0_row2\" class=\"row_heading level0 row2\" >3</th>\n",
       "      <td id=\"T_2b75d_row2_col0\" class=\"data row2 col0\" >0.026446</td>\n",
       "      <td id=\"T_2b75d_row2_col1\" class=\"data row2 col1\" >0.013082</td>\n",
       "      <td id=\"T_2b75d_row2_col2\" class=\"data row2 col2\" >0.008387</td>\n",
       "      <td id=\"T_2b75d_row2_col3\" class=\"data row2 col3\" >0.005852</td>\n",
       "      <td id=\"T_2b75d_row2_col4\" class=\"data row2 col4\" >0.004373</td>\n",
       "    </tr>\n",
       "    <tr>\n",
       "      <th id=\"T_2b75d_level0_row3\" class=\"row_heading level0 row3\" >4</th>\n",
       "      <td id=\"T_2b75d_row3_col0\" class=\"data row3 col0\" >0.015748</td>\n",
       "      <td id=\"T_2b75d_row3_col1\" class=\"data row3 col1\" >0.007347</td>\n",
       "      <td id=\"T_2b75d_row3_col2\" class=\"data row3 col2\" >0.004422</td>\n",
       "      <td id=\"T_2b75d_row3_col3\" class=\"data row3 col3\" >0.003064</td>\n",
       "      <td id=\"T_2b75d_row3_col4\" class=\"data row3 col4\" >0.002400</td>\n",
       "    </tr>\n",
       "    <tr>\n",
       "      <th id=\"T_2b75d_level0_row4\" class=\"row_heading level0 row4\" >5</th>\n",
       "      <td id=\"T_2b75d_row4_col0\" class=\"data row4 col0\" >0.009994</td>\n",
       "      <td id=\"T_2b75d_row4_col1\" class=\"data row4 col1\" >0.004516</td>\n",
       "      <td id=\"T_2b75d_row4_col2\" class=\"data row4 col2\" >0.002726</td>\n",
       "      <td id=\"T_2b75d_row4_col3\" class=\"data row4 col3\" >0.002004</td>\n",
       "      <td id=\"T_2b75d_row4_col4\" class=\"data row4 col4\" >0.001650</td>\n",
       "    </tr>\n",
       "    <tr>\n",
       "      <th id=\"T_2b75d_level0_row5\" class=\"row_heading level0 row5\" >6</th>\n",
       "      <td id=\"T_2b75d_row5_col0\" class=\"data row5 col0\" >0.006767</td>\n",
       "      <td id=\"T_2b75d_row5_col1\" class=\"data row5 col1\" >0.003013</td>\n",
       "      <td id=\"T_2b75d_row5_col2\" class=\"data row5 col2\" >0.001900</td>\n",
       "      <td id=\"T_2b75d_row5_col3\" class=\"data row5 col3\" >0.001463</td>\n",
       "      <td id=\"T_2b75d_row5_col4\" class=\"data row5 col4\" >0.001223</td>\n",
       "    </tr>\n",
       "    <tr>\n",
       "      <th id=\"T_2b75d_level0_row6\" class=\"row_heading level0 row6\" >7</th>\n",
       "      <td id=\"T_2b75d_row6_col0\" class=\"data row6 col0\" >0.004799</td>\n",
       "      <td id=\"T_2b75d_row6_col1\" class=\"data row6 col1\" >0.002203</td>\n",
       "      <td id=\"T_2b75d_row6_col2\" class=\"data row6 col2\" >0.001446</td>\n",
       "      <td id=\"T_2b75d_row6_col3\" class=\"data row6 col3\" >0.001141</td>\n",
       "      <td id=\"T_2b75d_row6_col4\" class=\"data row6 col4\" >0.000945</td>\n",
       "    </tr>\n",
       "    <tr>\n",
       "      <th id=\"T_2b75d_level0_row7\" class=\"row_heading level0 row7\" >8</th>\n",
       "      <td id=\"T_2b75d_row7_col0\" class=\"data row7 col0\" >0.003607</td>\n",
       "      <td id=\"T_2b75d_row7_col1\" class=\"data row7 col1\" >0.001694</td>\n",
       "      <td id=\"T_2b75d_row7_col2\" class=\"data row7 col2\" >0.001149</td>\n",
       "      <td id=\"T_2b75d_row7_col3\" class=\"data row7 col3\" >0.000911</td>\n",
       "      <td id=\"T_2b75d_row7_col4\" class=\"data row7 col4\" >0.000739</td>\n",
       "    </tr>\n",
       "    <tr>\n",
       "      <th id=\"T_2b75d_level0_row8\" class=\"row_heading level0 row8\" >9</th>\n",
       "      <td id=\"T_2b75d_row8_col0\" class=\"data row8 col0\" >0.002842</td>\n",
       "      <td id=\"T_2b75d_row8_col1\" class=\"data row8 col1\" >0.001351</td>\n",
       "      <td id=\"T_2b75d_row8_col2\" class=\"data row8 col2\" >0.000937</td>\n",
       "      <td id=\"T_2b75d_row8_col3\" class=\"data row8 col3\" >0.000734</td>\n",
       "      <td id=\"T_2b75d_row8_col4\" class=\"data row8 col4\" >0.000574</td>\n",
       "    </tr>\n",
       "    <tr>\n",
       "      <th id=\"T_2b75d_level0_row9\" class=\"row_heading level0 row9\" >10</th>\n",
       "      <td id=\"T_2b75d_row9_col0\" class=\"data row9 col0\" >0.002324</td>\n",
       "      <td id=\"T_2b75d_row9_col1\" class=\"data row9 col1\" >0.001092</td>\n",
       "      <td id=\"T_2b75d_row9_col2\" class=\"data row9 col2\" >0.000769</td>\n",
       "      <td id=\"T_2b75d_row9_col3\" class=\"data row9 col3\" >0.000584</td>\n",
       "      <td id=\"T_2b75d_row9_col4\" class=\"data row9 col4\" >0.000437</td>\n",
       "    </tr>\n",
       "    <tr>\n",
       "      <th id=\"T_2b75d_level0_row10\" class=\"row_heading level0 row10\" >11</th>\n",
       "      <td id=\"T_2b75d_row10_col0\" class=\"data row10 col0\" >0.001954</td>\n",
       "      <td id=\"T_2b75d_row10_col1\" class=\"data row10 col1\" >0.000914</td>\n",
       "      <td id=\"T_2b75d_row10_col2\" class=\"data row10 col2\" >0.000649</td>\n",
       "      <td id=\"T_2b75d_row10_col3\" class=\"data row10 col3\" >0.000472</td>\n",
       "      <td id=\"T_2b75d_row10_col4\" class=\"data row10 col4\" >0.000344</td>\n",
       "    </tr>\n",
       "  </tbody>\n",
       "</table>\n"
      ],
      "text/plain": [
       "<pandas.io.formats.style.Styler at 0x22ffa94adb0>"
      ]
     },
     "execution_count": 11,
     "metadata": {},
     "output_type": "execute_result"
    }
   ],
   "source": [
    "# Format and print dataframe\n",
    "df = pd.DataFrame(\n",
    "    error,\n",
    "    columns=[f'S = {_S}' for _S in jnp.arange(1, S_max + 1)],\n",
    "    index=jnp.arange(1, N_max + 1))\n",
    "df.index.name = 'N'\n",
    "df.style.set_caption(r'Relative error on the $g$-function at $ln(t/t_s)=5$') "
   ]
  },
  {
   "cell_type": "code",
   "execution_count": 12,
   "id": "73d8cd1a-b45d-4c42-b9d3-bcc463136a5e",
   "metadata": {
    "jupyter": {
     "source_hidden": true
    }
   },
   "outputs": [
    {
     "data": {
      "image/png": "[encoded data removed]",
      "text/plain": [
       "<Figure size 551.181x354.331 with 2 Axes>"
      ]
     },
     "metadata": {},
     "output_type": "display_data"
    }
   ],
   "source": [
    "# Plot error as function of N and S\n",
    "fig, axs = plt.subplots(ncols=2, sharey=True, layout='constrained')\n",
    "\n",
    "N = jnp.arange(1, N_max + 1)\n",
    "S = jnp.arange(1, S_max + 1)\n",
    "\n",
    "axs[0].set_xscale('function', functions=(lambda x: jnp.log(x), lambda x: jnp.exp(x)))\n",
    "axs[0] = gm.utilities._format_axis(axs[0], axis_labels=[r'$N$', r'$log_{10}(\\varepsilon_{rel})$'])\n",
    "axs[0].plot(N, jnp.log10(error), '-o');\n",
    "axs[0].plot(N, jnp.log10(0.1 / N**2), 'k--');\n",
    "axs[0].legend([f'$S={_S}$' for _S in S] + [r'$1 / N^2$'], frameon=False)\n",
    "\n",
    "axs[1].set_xscale('function', functions=(lambda x: jnp.log(x), lambda x: jnp.exp(x)))\n",
    "axs[1] = gm.utilities._format_axis(axs[1])\n",
    "axs[1].set_xlabel(r'S')\n",
    "axs[1].plot(S, jnp.log10(error.T), '-o');\n",
    "axs[1].plot(S, jnp.log10(0.01 / S), 'k--');\n",
    "axs[1].set_xlim(None, 20)\n",
    "axs[1].legend([f'$N={_N}$' for _N in N] + [r'$1 / S$'], frameon=False)\n",
    "\n",
    "fig.set_size_inches(140. / 25.4, 90. / 25.4)\n",
    "fig.savefig('convergence-Eskilson-optimal.eps')"
   ]
  }
 ],
 "metadata": {
  "kernelspec": {
   "display_name": "Python 3 (ipykernel)",
   "language": "python",
   "name": "python3"
  },
  "language_info": {
   "codemirror_mode": {
    "name": "ipython",
    "version": 3
   },
   "file_extension": ".py",
   "mimetype": "text/x-python",
   "name": "python",
   "nbconvert_exporter": "python",
   "pygments_lexer": "ipython3",
   "version": "3.12.4"
  }
 },
 "nbformat": 4,
 "nbformat_minor": 5
}
